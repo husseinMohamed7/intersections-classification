{
 "cells": [
  {
   "cell_type": "code",
   "execution_count": 1,
   "metadata": {},
   "outputs": [],
   "source": [
    "import numpy as np \n",
    "import pandas as pd\n",
    "import matplotlib.pyplot as plt\n",
    "import random"
   ]
  },
  {
   "cell_type": "code",
   "execution_count": 2,
   "metadata": {},
   "outputs": [],
   "source": [
    "# number_of_taxis = 10357    # number of taxis 10357\n",
    "# # Create a dataframe list of every taxi trajectory\n",
    "# dataset = [pd.read_csv(\"taxi_log_2008_by_id/{}.txt\".format(i),       \n",
    "#                         sep=\",\",\n",
    "#                         header=None,\n",
    "#                         names=[\"taxi_id\", \"date_time\", \"longitude\", \"latitude\"])\n",
    "#                         for i in range(1, number_of_taxis + 1)]\n",
    "\n",
    "# # Concatenate the list of DataFrames into one for all taxi trajectory                        \n",
    "# taxi_trajectories = pd.concat(dataset)\n",
    "\n",
    "# # Drop duplicates and NAs \n",
    "# taxi_trajectories.drop_duplicates(inplace=True)\n",
    "# taxi_trajectories.dropna(inplace=True)\n",
    "# taxi_trajectories.to_csv(\"taxi_trajectories.csv\", index=False)    # to save data to csv"
   ]
  },
  {
   "cell_type": "code",
   "execution_count": 3,
   "metadata": {},
   "outputs": [],
   "source": [
    "number_of_taxis = 10357    # number of taxis 10357\n",
    "taxi_trajectories = pd.read_csv(\"taxi_trajectories.csv\")"
   ]
  },
  {
   "cell_type": "code",
   "execution_count": 35,
   "metadata": {},
   "outputs": [],
   "source": [
    "min_lat = 39.88562\n",
    "max_lat = 39.88759\n",
    "min_lon = 116.40431\n",
    "max_lon = 116.40819"
   ]
  },
  {
   "cell_type": "code",
   "execution_count": 36,
   "metadata": {
    "scrolled": false
   },
   "outputs": [
    {
     "data": {
      "image/png": "[encoded data removed]",
      "text/plain": [
       "<Figure size 640x480 with 1 Axes>"
      ]
     },
     "metadata": {},
     "output_type": "display_data"
    }
   ],
   "source": [
    "\n",
    "for i in range(1,10):\n",
    "    for j in range(150):\n",
    "        user_id = np.random.randint(1,number_of_taxis)\n",
    "        trajectory = taxi_trajectories.loc[taxi_trajectories[\"taxi_id\"] == user_id]\n",
    "        plt.scatter(trajectory[\"longitude\"], trajectory[\"latitude\"], color='black', s=20)\n",
    "    plt.ylim(min_lat,max_lat)\n",
    "    plt.xlim(min_lon,max_lon)\n",
    "    plt.axis(\"off\")\n",
    "    plt.savefig(\"/home/hussein/Hola/T-drive/img/{}.jpg\".format(i+random.randrange(1000000000)))\n",
    "\n"
   ]
  },
  {
   "cell_type": "code",
   "execution_count": null,
   "metadata": {},
   "outputs": [],
   "source": []
  },
  {
   "cell_type": "code",
   "execution_count": null,
   "metadata": {},
   "outputs": [],
   "source": []
  }
 ],
 "metadata": {
  "kernelspec": {
   "display_name": "Python 3 (ipykernel)",
   "language": "python",
   "name": "python3"
  },
  "language_info": {
   "codemirror_mode": {
    "name": "ipython",
    "version": 3
   },
   "file_extension": ".py",
   "mimetype": "text/x-python",
   "name": "python",
   "nbconvert_exporter": "python",
   "pygments_lexer": "ipython3",
   "version": "3.10.8"
  },
  "vscode": {
   "interpreter": {
    "hash": "f3a52463084db90f96d29dcfcfd9bf276dba3c521d76c4c38c835392b64a093b"
   }
  }
 },
 "nbformat": 4,
 "nbformat_minor": 2
}
